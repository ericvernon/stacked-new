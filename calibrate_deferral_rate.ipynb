{
 "cells": [
  {
   "cell_type": "code",
   "id": "initial_id",
   "metadata": {
    "collapsed": true,
    "ExecuteTime": {
     "end_time": "2025-05-14T03:12:38.290802Z",
     "start_time": "2025-05-14T03:12:37.503522Z"
    }
   },
   "source": [
    "import numpy as np\n",
    "import pandas as pd\n",
    "import matplotlib.pyplot as plt\n",
    "\n",
    "from pathlib import Path"
   ],
   "outputs": [],
   "execution_count": 1
  },
  {
   "metadata": {
    "ExecuteTime": {
     "end_time": "2025-05-14T03:12:38.940714Z",
     "start_time": "2025-05-14T03:12:38.290802Z"
    }
   },
   "cell_type": "code",
   "source": [
    "from sklearn.preprocessing import LabelEncoder\n",
    "def load_dataset(dataset_id):\n",
    "    # Load a file, assuming the first (N - 1) columns are features, and the last column is the target value\n",
    "    path = Path(f'data/uci/{dataset_id}')\n",
    "    df = pd.read_csv(path / 'data.txt')\n",
    "    arr = df.to_numpy()\n",
    "    X, y = arr[:, :-1], arr[:, -1]\n",
    "    le = LabelEncoder()\n",
    "    return X, le.fit_transform(y)"
   ],
   "id": "532daffd9beea562",
   "outputs": [],
   "execution_count": 2
  },
  {
   "metadata": {
    "ExecuteTime": {
     "end_time": "2025-05-14T03:12:39.016060Z",
     "start_time": "2025-05-14T03:12:38.940714Z"
    }
   },
   "cell_type": "code",
   "source": [
    "X, y = load_dataset(94)  # Spambase\n",
    "from sklearn.model_selection import train_test_split\n",
    "X_train, X_test, y_train, y_test = train_test_split(X, y, test_size=0.2, random_state=0)\n",
    "X_train.shape"
   ],
   "id": "d7d0ea3a9250eaa",
   "outputs": [
    {
     "data": {
      "text/plain": [
       "(3680, 57)"
      ]
     },
     "execution_count": 3,
     "metadata": {},
     "output_type": "execute_result"
    }
   ],
   "execution_count": 3
  },
  {
   "metadata": {
    "ExecuteTime": {
     "end_time": "2025-05-13T05:01:52.186680Z",
     "start_time": "2025-05-13T05:01:52.182590Z"
    }
   },
   "cell_type": "code",
   "source": [
    "from sklearn.tree import DecisionTreeClassifier\n",
    "from xgboost import XGBClassifier\n",
    "from imblearn.over_sampling import SMOTE\n",
    "\n",
    "def get_final_predictions(samples, wb, bb, grades):\n",
    "    wb_predictions = wb.predict(samples)\n",
    "    bb_predictions = bb.predict(samples)\n",
    "    \n",
    "    hard_idx = grades == True\n",
    "    final_predictions = wb_predictions.copy()\n",
    "    final_predictions[hard_idx] = bb_predictions[hard_idx]\n",
    "    \n",
    "    return final_predictions\n"
   ],
   "id": "e1280ede2e110bc8",
   "outputs": [],
   "execution_count": 18
  },
  {
   "metadata": {
    "ExecuteTime": {
     "end_time": "2025-05-13T05:05:26.405426Z",
     "start_time": "2025-05-13T05:05:26.136096Z"
    }
   },
   "cell_type": "code",
   "source": [
    "white_box = DecisionTreeClassifier(max_depth=4)\n",
    "white_box.fit(X_train, y_train)\n",
    "\n",
    "black_box = XGBClassifier()\n",
    "black_box.fit(X_train, y_train)\n",
    "\n",
    "is_hard = white_box.predict(X_train) != y_train\n",
    "smote = SMOTE(random_state=0)\n",
    "X2, y2 = smote.fit_resample(X_train, is_hard)\n",
    "grader = DecisionTreeClassifier(max_depth=4)\n",
    "grader.fit(X2, y2)\n",
    "\n",
    "print('(Training)')\n",
    "grades_train = grader.predict(X_train)\n",
    "final_predictions_train = get_final_predictions(X_train, white_box, black_box, grades_train)\n",
    "print(f'{(np.sum(final_predictions_train == y_train) / X_train.shape[0]):.4f} -- {(np.sum(grades_train) / X_train.shape[0]):.4f}')\n",
    "\n",
    "print('(Testing)')\n",
    "grades_test = grader.predict(X_test)\n",
    "final_predictions_test = get_final_predictions(X_test, white_box, black_box, grades_test)\n",
    "print(f'{(np.sum(final_predictions_test == y_test) / X_test.shape[0]):.4f} -- {(np.sum(grades_test) / X_test.shape[0]):.4f}')"
   ],
   "id": "f7c3716589c7e7eb",
   "outputs": [
    {
     "name": "stdout",
     "output_type": "stream",
     "text": [
      "(Training)\n",
      "0.9728 -- 0.3125\n",
      "(Testing)\n",
      "0.9262 -- 0.3160\n"
     ]
    }
   ],
   "execution_count": 27
  },
  {
   "metadata": {},
   "cell_type": "markdown",
   "source": "## Try to control the deferral rate by changing class weights",
   "id": "b0e76621b42a0834"
  },
  {
   "metadata": {},
   "cell_type": "code",
   "outputs": [],
   "execution_count": null,
   "source": "",
   "id": "dd927b931a84815a"
  },
  {
   "metadata": {
    "jupyter": {
     "is_executing": true
    },
    "ExecuteTime": {
     "start_time": "2025-05-13T07:57:27.557503Z"
    }
   },
   "cell_type": "code",
   "source": [
    "from src.models import OptunaXGBoost\n",
    "\n",
    "datasets = {\n",
    "    17: 'Breast Cancer (Wisconsin)',\n",
    "    19: 'Car',\n",
    "    52: 'Ionosphere',\n",
    "    59: 'Letter',\n",
    "    94: 'Spambase',\n",
    "    267: 'Banknote',\n",
    "}\n",
    "n = 1_001\n",
    "\n",
    "for dataset_id, dataset_name in datasets.items():\n",
    "    X, y = load_dataset(dataset_id)\n",
    "    X_train, X_test, y_train, y_test = train_test_split(X, y, test_size=0.2, random_state=0)\n",
    "    \n",
    "    results = np.zeros(shape=(n, 2, 2))  # Resampling rate, Train/Test, Accuracy/Deferral \n",
    "    white_box = DecisionTreeClassifier(max_depth=4)\n",
    "    white_box.fit(X_train, y_train)\n",
    "    \n",
    "    #black_box = OptunaXGBoost(n_trials=300)\n",
    "    black_box = XGBClassifier()\n",
    "    black_box.fit(X_train, y_train)\n",
    "    \n",
    "    is_hard = white_box.predict(X_train) != y_train\n",
    "    smote = SMOTE(random_state=0)\n",
    "    X2, y2 = smote.fit_resample(X_train, is_hard)\n",
    "    \n",
    "    for i in range(n):\n",
    "        grader = DecisionTreeClassifier(max_depth=None, class_weight={\n",
    "            True: i,\n",
    "            False: n - i - 1,\n",
    "        })\n",
    "        grader.fit(X2, y2)\n",
    "        \n",
    "        grades_train = grader.predict(X_train)\n",
    "        final_predictions_train = get_final_predictions(X_train, white_box, black_box, grades_train)\n",
    "        results[i, 0, 0] = np.sum(final_predictions_train == y_train) / X_train.shape[0]\n",
    "        results[i, 0, 1] = np.sum(grades_train) / X_train.shape[0]\n",
    "        \n",
    "        grades_test = grader.predict(X_test)\n",
    "        final_predictions_test = get_final_predictions(X_test, white_box, black_box, grades_test)\n",
    "        results[i, 1, 0] = np.sum(final_predictions_test == y_test) / X_test.shape[0]\n",
    "        results[i, 1, 1] = np.sum(grades_test) / X_test.shape[0]\n",
    "\n",
    "    default_grader = DecisionTreeClassifier(max_depth=None)\n",
    "    default_grader.fit(X2, y2)\n",
    "    default_grades_train = default_grader.predict(X_train)\n",
    "    default_predictions_train = get_final_predictions(X_train, white_box, black_box, default_grades_train)\n",
    "    default_grades_test = default_grader.predict(X_test)\n",
    "    default_predictions_test = get_final_predictions(X_test, white_box, black_box, default_grades_test)\n",
    "        \n",
    "    fig, ax = plt.subplots(figsize=(9, 9), nrows=2, ncols=2)\n",
    "    fig.suptitle(f'{dataset_name}', fontsize=18)\n",
    "    \n",
    "    acc_min = np.max([np.min(results[:, :, 0]) - 0.05, 0])\n",
    "    acc_max = np.min([np.max(results[:, :, 0]) + 0.05, 1.01])\n",
    "    \n",
    "    ax[0, 0].set_title('Deferral vs. Accuracy -- Training')\n",
    "    ax[0, 0].set_xlim([0, 1])\n",
    "    ax[0, 0].set_xlabel('Deferral Rate')\n",
    "    ax[0, 0].set_ylim([acc_min, acc_max])\n",
    "    ax[0, 0].set_ylabel('Accuracy')\n",
    "    ax[0, 0].scatter(x=results[:, 0, 1], y=results[:, 0, 0])\n",
    "    ax[0, 0].scatter(\n",
    "        x=np.sum(default_grades_train) / X_train.shape[0],\n",
    "        y=(np.sum(default_predictions_train == y_train)) / X_train.shape[0],\n",
    "        c='red', s=400, marker='*',\n",
    "    )\n",
    "    \n",
    "    ax[0, 1].set_title('Deferral vs. Accuracy -- Testing')\n",
    "    ax[0, 1].set_xlim([0, 1])\n",
    "    ax[0, 1].set_xlabel('Deferral Rate')\n",
    "    ax[0, 1].set_ylim([acc_min, acc_max])\n",
    "    ax[0, 1].set_ylabel('Accuracy')\n",
    "    ax[0, 1].scatter(x=results[:, 1, 1], y=results[:, 1, 0])\n",
    "    ax[0, 1].scatter(\n",
    "        x=np.sum(default_grades_test) / X_test.shape[0],\n",
    "        y=(np.sum(default_predictions_test == y_test)) / X_test.shape[0],\n",
    "        c='red', s=400, marker='*',\n",
    "    )\n",
    "    \n",
    "    ax[1, 0].set_title('Weight vs. Deferral -- Training')\n",
    "    ax[1, 0].set_xlabel('Weight (Hard Patterns)')\n",
    "    ax[1, 0].set_ylim([-0.01, 1.01])\n",
    "    ax[1, 0].set_ylabel('Deferral Rate')\n",
    "    ax[1, 0].scatter(x=np.arange(n) / n, y=results[:, 0, 1])\n",
    "    \n",
    "    ax[1, 1].set_title('Weight vs. Deferral -- Testing')\n",
    "    ax[1, 1].set_xlabel('Weight (Hard Patterns)')\n",
    "    ax[1, 1].set_ylim([-0.01, 1.01])\n",
    "    ax[1, 1].set_ylabel('Deferral Rate')\n",
    "    ax[1, 1].scatter(x=np.arange(n) / n, y=results[:, 1, 1])\n",
    "    \n",
    "    plt.show();\n"
   ],
   "id": "ea07b15b6cd8ebdf",
   "outputs": [],
   "execution_count": null
  },
  {
   "metadata": {
    "ExecuteTime": {
     "end_time": "2025-05-13T06:50:19.586256Z",
     "start_time": "2025-05-13T06:50:19.583772Z"
    }
   },
   "cell_type": "code",
   "source": "",
   "id": "3ee772efe3f588e2",
   "outputs": [],
   "execution_count": 127
  },
  {
   "metadata": {
    "ExecuteTime": {
     "end_time": "2025-05-13T06:39:56.950075Z",
     "start_time": "2025-05-13T06:39:56.946411Z"
    }
   },
   "cell_type": "code",
   "source": "np.max(results[:, :, 0])",
   "id": "121b75fb4cb5c79d",
   "outputs": [
    {
     "data": {
      "text/plain": [
       "np.float64(0.9967391304347826)"
      ]
     },
     "execution_count": 100,
     "metadata": {},
     "output_type": "execute_result"
    }
   ],
   "execution_count": 100
  },
  {
   "metadata": {
    "ExecuteTime": {
     "end_time": "2025-05-13T06:24:51.650804Z",
     "start_time": "2025-05-13T06:24:51.532571Z"
    }
   },
   "cell_type": "code",
   "source": "plt.scatter(x=np.arange(n), y=results[:, 0, 1])",
   "id": "4c7309dee43dea1b",
   "outputs": [
    {
     "data": {
      "text/plain": [
       "<matplotlib.collections.PathCollection at 0x18a6043e930>"
      ]
     },
     "execution_count": 83,
     "metadata": {},
     "output_type": "execute_result"
    },
    {
     "data": {
      "text/plain": [
       "<Figure size 640x480 with 1 Axes>"
      ],
      "image/png": "[encoded data removed]"
     },
     "metadata": {},
     "output_type": "display_data"
    }
   ],
   "execution_count": 83
  },
  {
   "metadata": {},
   "cell_type": "markdown",
   "source": "## Now, can we target a specific deferral rate?",
   "id": "14528d6cd1ea8076"
  },
  {
   "metadata": {
    "ExecuteTime": {
     "end_time": "2025-05-13T05:51:27.440951Z",
     "start_time": "2025-05-13T05:51:03.501109Z"
    }
   },
   "cell_type": "code",
   "source": [
    "## This part actually stays the same!!\n",
    "n = 250\n",
    "results = np.zeros(shape=(n, 2, 2))  # Resampling rate, Train/Test, Accuracy/Deferral \n",
    "white_box = DecisionTreeClassifier(max_depth=6)\n",
    "white_box.fit(X_train, y_train)\n",
    "\n",
    "black_box = XGBClassifier()\n",
    "black_box.fit(X_train, y_train)\n",
    "\n",
    "is_hard = white_box.predict(X_train) != y_train\n",
    "smote = SMOTE(random_state=0)\n",
    "X2, y2 = smote.fit_resample(X_train, is_hard)\n",
    "\n",
    "for i in range(n):\n",
    "    grader = DecisionTreeClassifier(max_depth=4, class_weight={\n",
    "        True: i,\n",
    "        False: n - i - 1,\n",
    "    })\n",
    "    grader.fit(X2, y2)\n",
    "    \n",
    "    grades_train = grader.predict(X_train)\n",
    "    final_predictions_train = get_final_predictions(X_train, white_box, black_box, grades_train)\n",
    "    results[i, 0, 0] = np.sum(final_predictions_train == y_train) / X_train.shape[0]\n",
    "    results[i, 0, 1] = np.sum(grades_train) / X_train.shape[0]\n",
    "    \n",
    "    grades_test = grader.predict(X_test)\n",
    "    final_predictions_test = get_final_predictions(X_test, white_box, black_box, grades_test)\n",
    "    results[i, 1, 0] = np.sum(final_predictions_test == y_test) / X_test.shape[0]\n",
    "    results[i, 1, 1] = np.sum(grades_test) / X_test.shape[0]"
   ],
   "id": "aefe3959dbb2576c",
   "outputs": [],
   "execution_count": 56
  },
  {
   "metadata": {
    "ExecuteTime": {
     "end_time": "2025-05-13T05:56:51.414214Z",
     "start_time": "2025-05-13T05:56:51.408665Z"
    }
   },
   "cell_type": "code",
   "source": "results[:3, 0, 1]",
   "id": "b0d3b5436f5b6401",
   "outputs": [
    {
     "data": {
      "text/plain": [
       "array([0.        , 0.00081522, 0.00081522])"
      ]
     },
     "execution_count": 69,
     "metadata": {},
     "output_type": "execute_result"
    }
   ],
   "execution_count": 69
  },
  {
   "metadata": {
    "ExecuteTime": {
     "end_time": "2025-05-13T05:56:52.404038Z",
     "start_time": "2025-05-13T05:56:52.393014Z"
    }
   },
   "cell_type": "code",
   "source": "results[-3:, 0, 1]",
   "id": "a1bab9b920cb7790",
   "outputs": [
    {
     "data": {
      "text/plain": [
       "array([0.83288043, 0.83288043, 1.        ])"
      ]
     },
     "execution_count": 70,
     "metadata": {},
     "output_type": "execute_result"
    }
   ],
   "execution_count": 70
  },
  {
   "metadata": {
    "ExecuteTime": {
     "end_time": "2025-05-13T06:01:56.894123Z",
     "start_time": "2025-05-13T06:01:56.647902Z"
    }
   },
   "cell_type": "code",
   "source": [
    "## What value of i (i.e. class weights) gives us the deferral rate we are looking for?\n",
    "m = 300  ## \"resolution\" of targeting specific deferral rates\n",
    "ptr = 0  ## We assume the deferral rates are strictly increasing -- not \"guaranteed\" to be true, but still a safe assumption\n",
    "ptr_set = set()\n",
    "fig, ax = plt.subplots()\n",
    "for target_deferral_rate in np.linspace(0, 1, m):\n",
    "    deferral_rate = results[ptr, 0, 1]\n",
    "    while deferral_rate < target_deferral_rate:\n",
    "        ptr += 1\n",
    "        deferral_rate = results[ptr, 0, 1]\n",
    "    \n",
    "    if ptr not in ptr_set:\n",
    "        ax.scatter(x=results[ptr, 1, 1], y=results[ptr, 1, 0], c='black')\n",
    "        ptr_set.add(ptr)\n",
    "    \n",
    "plt.show();"
   ],
   "id": "da952a3a1a64572c",
   "outputs": [
    {
     "data": {
      "text/plain": [
       "<Figure size 640x480 with 1 Axes>"
      ],
      "image/png": "[encoded data removed]"
     },
     "metadata": {},
     "output_type": "display_data"
    }
   ],
   "execution_count": 79
  },
  {
   "metadata": {
    "ExecuteTime": {
     "end_time": "2025-05-14T03:12:46.623503Z",
     "start_time": "2025-05-14T03:12:46.620747Z"
    }
   },
   "cell_type": "code",
   "source": "",
   "id": "77c29279ed1509fc",
   "outputs": [],
   "execution_count": 3
  },
  {
   "metadata": {
    "ExecuteTime": {
     "end_time": "2025-05-14T03:12:46.768925Z",
     "start_time": "2025-05-14T03:12:46.765152Z"
    }
   },
   "cell_type": "code",
   "source": "",
   "id": "c941c555f5c7e25e",
   "outputs": [],
   "execution_count": 3
  },
  {
   "metadata": {
    "ExecuteTime": {
     "end_time": "2025-05-14T03:12:46.921173Z",
     "start_time": "2025-05-14T03:12:46.917465Z"
    }
   },
   "cell_type": "code",
   "source": "",
   "id": "f71dad7ddac83bf4",
   "outputs": [],
   "execution_count": 3
  },
  {
   "metadata": {
    "ExecuteTime": {
     "end_time": "2025-05-14T03:12:47.049526Z",
     "start_time": "2025-05-14T03:12:47.045309Z"
    }
   },
   "cell_type": "code",
   "source": "",
   "id": "e891a4ec50db0fab",
   "outputs": [],
   "execution_count": 3
  },
  {
   "metadata": {
    "ExecuteTime": {
     "end_time": "2025-05-14T03:12:47.177824Z",
     "start_time": "2025-05-14T03:12:47.167945Z"
    }
   },
   "cell_type": "code",
   "source": "",
   "id": "bff2756adbf1ae",
   "outputs": [],
   "execution_count": 3
  },
  {
   "metadata": {
    "ExecuteTime": {
     "end_time": "2025-05-14T03:12:47.312637Z",
     "start_time": "2025-05-14T03:12:47.302695Z"
    }
   },
   "cell_type": "code",
   "source": "",
   "id": "9763a190e585dd05",
   "outputs": [],
   "execution_count": 3
  },
  {
   "metadata": {
    "ExecuteTime": {
     "end_time": "2025-05-14T03:12:47.447463Z",
     "start_time": "2025-05-14T03:12:47.438327Z"
    }
   },
   "cell_type": "code",
   "source": "",
   "id": "20a6248d42dadbef",
   "outputs": [],
   "execution_count": 3
  },
  {
   "metadata": {
    "ExecuteTime": {
     "end_time": "2025-05-14T03:12:47.565102Z",
     "start_time": "2025-05-14T03:12:47.555707Z"
    }
   },
   "cell_type": "code",
   "source": "",
   "id": "3a1523392a3377e3",
   "outputs": [],
   "execution_count": 3
  },
  {
   "metadata": {
    "ExecuteTime": {
     "end_time": "2025-05-14T03:12:47.697243Z",
     "start_time": "2025-05-14T03:12:47.687265Z"
    }
   },
   "cell_type": "code",
   "source": "",
   "id": "ea3b9d5de9e3dcc9",
   "outputs": [],
   "execution_count": 3
  },
  {
   "metadata": {
    "ExecuteTime": {
     "end_time": "2025-05-14T03:16:39.920467Z",
     "start_time": "2025-05-14T03:16:39.809090Z"
    }
   },
   "cell_type": "code",
   "source": [
    "from sklearn.tree import DecisionTreeClassifier\n",
    "from xgboost import XGBClassifier"
   ],
   "id": "ca12dcc56a59487e",
   "outputs": [],
   "execution_count": 6
  },
  {
   "metadata": {
    "ExecuteTime": {
     "end_time": "2025-05-14T03:16:40.510029Z",
     "start_time": "2025-05-14T03:16:40.466Z"
    }
   },
   "cell_type": "code",
   "source": [
    "X, y = load_dataset(94)  # Spambase\n",
    "from sklearn.model_selection import train_test_split\n",
    "X_train, X_test, y_train, y_test = train_test_split(X, y, test_size=0.2, random_state=0)\n",
    "X_train.shape"
   ],
   "id": "d62d42110500c92c",
   "outputs": [
    {
     "data": {
      "text/plain": [
       "(3680, 57)"
      ]
     },
     "execution_count": 7,
     "metadata": {},
     "output_type": "execute_result"
    }
   ],
   "execution_count": 7
  },
  {
   "metadata": {
    "ExecuteTime": {
     "end_time": "2025-05-14T03:16:40.696096Z",
     "start_time": "2025-05-14T03:16:40.672958Z"
    }
   },
   "cell_type": "code",
   "source": [
    "dt = DecisionTreeClassifier(max_depth=4)\n",
    "dt.fit(X_train, y_train)\n",
    "dt.score(X_train, y_train)"
   ],
   "id": "10b78ede56bdfc9b",
   "outputs": [
    {
     "data": {
      "text/plain": [
       "0.9127717391304347"
      ]
     },
     "execution_count": 8,
     "metadata": {},
     "output_type": "execute_result"
    }
   ],
   "execution_count": 8
  },
  {
   "metadata": {
    "ExecuteTime": {
     "end_time": "2025-05-14T03:16:49.403211Z",
     "start_time": "2025-05-14T03:16:49.095633Z"
    }
   },
   "cell_type": "code",
   "source": [
    "xgb = XGBClassifier()\n",
    "xgb.fit(X_train, y_train)\n",
    "xgb.score(X_train, y_train)"
   ],
   "id": "5e2e54b08dba14bb",
   "outputs": [
    {
     "data": {
      "text/plain": [
       "0.9967391304347826"
      ]
     },
     "execution_count": 9,
     "metadata": {},
     "output_type": "execute_result"
    }
   ],
   "execution_count": 9
  },
  {
   "metadata": {},
   "cell_type": "code",
   "outputs": [],
   "execution_count": null,
   "source": "",
   "id": "663a0162e76ca318"
  }
 ],
 "metadata": {
  "kernelspec": {
   "display_name": "Python 3",
   "language": "python",
   "name": "python3"
  },
  "language_info": {
   "codemirror_mode": {
    "name": "ipython",
    "version": 2
   },
   "file_extension": ".py",
   "mimetype": "text/x-python",
   "name": "python",
   "nbconvert_exporter": "python",
   "pygments_lexer": "ipython2",
   "version": "2.7.6"
  }
 },
 "nbformat": 4,
 "nbformat_minor": 5
}
