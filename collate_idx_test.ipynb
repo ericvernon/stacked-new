{
 "cells": [
  {
   "cell_type": "code",
   "id": "initial_id",
   "metadata": {
    "collapsed": true,
    "ExecuteTime": {
     "end_time": "2025-07-16T05:26:16.531659Z",
     "start_time": "2025-07-16T05:26:16.527655Z"
    }
   },
   "source": [
    "import numpy as np\n",
    "import pandas as pd\n",
    "import matplotlib.pyplot as plt\n",
    "from sklearn.model_selection import StratifiedKFold\n",
    "from sklearn.tree import DecisionTreeClassifier\n",
    "\n",
    "from pathlib import Path"
   ],
   "outputs": [],
   "execution_count": 20
  },
  {
   "metadata": {
    "ExecuteTime": {
     "end_time": "2025-07-16T05:26:17.769131Z",
     "start_time": "2025-07-16T05:26:17.764446Z"
    }
   },
   "cell_type": "code",
   "source": [
    "from sklearn.preprocessing import LabelEncoder\n",
    "def load_dataset(dataset_id):\n",
    "    # Load a file, assuming the first (N - 1) columns are features, and the last column is the target value\n",
    "    path = Path(f'data/uci/{dataset_id}')\n",
    "    df = pd.read_csv(path / 'data.txt')\n",
    "    arr = df.to_numpy()\n",
    "    X, y = arr[:, :-1], arr[:, -1]\n",
    "    le = LabelEncoder()\n",
    "    return X, le.fit_transform(y)"
   ],
   "id": "cc5f43c4cc0d9067",
   "outputs": [],
   "execution_count": 21
  },
  {
   "metadata": {
    "ExecuteTime": {
     "end_time": "2025-07-16T05:26:18.005815Z",
     "start_time": "2025-07-16T05:26:17.997791Z"
    }
   },
   "cell_type": "code",
   "source": [
    "X, y = load_dataset(43)\n",
    "from sklearn.model_selection import train_test_split\n",
    "X_train, X_test, y_train, y_test = train_test_split(X[:10], y[:10], test_size=0.2, random_state=0)\n",
    "X_train.shape"
   ],
   "id": "1648456f3a860704",
   "outputs": [
    {
     "data": {
      "text/plain": [
       "(8, 3)"
      ]
     },
     "execution_count": 22,
     "metadata": {},
     "output_type": "execute_result"
    }
   ],
   "execution_count": 22
  },
  {
   "metadata": {
    "ExecuteTime": {
     "end_time": "2025-07-16T05:26:18.418442Z",
     "start_time": "2025-07-16T05:26:18.414697Z"
    }
   },
   "cell_type": "code",
   "source": "kfold = StratifiedKFold(n_splits=4, random_state=1, shuffle=True)",
   "id": "8ecb10cac6af7c01",
   "outputs": [],
   "execution_count": 23
  },
  {
   "metadata": {
    "ExecuteTime": {
     "end_time": "2025-07-16T05:26:19.328865Z",
     "start_time": "2025-07-16T05:26:19.316509Z"
    }
   },
   "cell_type": "code",
   "source": [
    "all_incorrect = set()\n",
    "for data_split_idx, (train_idx, calibration_idx) in enumerate(kfold.split(X_train, y_train)):\n",
    "    dt = DecisionTreeClassifier(max_depth=2, random_state=0)\n",
    "    dt.fit(X_train[train_idx], y_train[train_idx])\n",
    "    print('Calibration idx        ', calibration_idx)\n",
    "    print('Calibration predictions', dt.predict(X_train[calibration_idx]))\n",
    "    print('Ground truth           ', y_train[calibration_idx])\n",
    "    \n",
    "    wrong_idx_within_calibration = dt.predict(X_train[calibration_idx]) != y_train[calibration_idx]\n",
    "    wrong_idx_within_training = calibration_idx[wrong_idx_within_calibration]\n",
    "    print('Incorrect indices this pass', wrong_idx_within_training)\n",
    "    all_incorrect.update(wrong_idx_within_training)\n",
    "\n",
    "print('All incorrect indices', all_incorrect)"
   ],
   "id": "3e4e44c49d2074a6",
   "outputs": [
    {
     "name": "stdout",
     "output_type": "stream",
     "text": [
      "Calibration idx         [2 3]\n",
      "Calibration predictions [0 1]\n",
      "Ground truth            [0 0]\n",
      "Incorrect indices this pass [3]\n",
      "Calibration idx         [1 6]\n",
      "Calibration predictions [1 0]\n",
      "Ground truth            [0 0]\n",
      "Incorrect indices this pass [1]\n",
      "Calibration idx         [5 7]\n",
      "Calibration predictions [1 1]\n",
      "Ground truth            [0 0]\n",
      "Incorrect indices this pass [5 7]\n",
      "Calibration idx         [0 4]\n",
      "Calibration predictions [0 0]\n",
      "Ground truth            [0 1]\n",
      "Incorrect indices this pass [4]\n",
      "All incorrect indices {np.int64(1), np.int64(3), np.int64(4), np.int64(5), np.int64(7)}\n"
     ]
    },
    {
     "name": "stderr",
     "output_type": "stream",
     "text": [
      "C:\\Users\\Eric\\code\\stacked-new\\.venv\\Lib\\site-packages\\sklearn\\model_selection\\_split.py:776: UserWarning: The least populated class in y has only 1 members, which is less than n_splits=4.\n",
      "  warnings.warn(\n"
     ]
    }
   ],
   "execution_count": 24
  },
  {
   "metadata": {
    "ExecuteTime": {
     "end_time": "2025-07-16T05:28:19.001154Z",
     "start_time": "2025-07-16T05:28:18.997485Z"
    }
   },
   "cell_type": "code",
   "source": "list(all_incorrect)",
   "id": "2053c962914cc549",
   "outputs": [
    {
     "data": {
      "text/plain": [
       "[np.int64(1), np.int64(3), np.int64(4), np.int64(5), np.int64(7)]"
      ]
     },
     "execution_count": 32,
     "metadata": {},
     "output_type": "execute_result"
    }
   ],
   "execution_count": 32
  },
  {
   "metadata": {
    "ExecuteTime": {
     "end_time": "2025-07-16T05:28:30.528221Z",
     "start_time": "2025-07-16T05:28:30.523255Z"
    }
   },
   "cell_type": "code",
   "source": "np.array(list(all_incorrect))",
   "id": "75a7656dc78dc4c2",
   "outputs": [
    {
     "data": {
      "text/plain": [
       "array([1, 3, 4, 5, 7])"
      ]
     },
     "execution_count": 33,
     "metadata": {},
     "output_type": "execute_result"
    }
   ],
   "execution_count": 33
  },
  {
   "metadata": {
    "ExecuteTime": {
     "end_time": "2025-07-16T05:28:49.466365Z",
     "start_time": "2025-07-16T05:28:49.461637Z"
    }
   },
   "cell_type": "code",
   "source": "np.isin(np.arange(10), _33)",
   "id": "52b851f54336f857",
   "outputs": [
    {
     "data": {
      "text/plain": [
       "array([False,  True, False,  True,  True,  True, False,  True, False,\n",
       "       False])"
      ]
     },
     "execution_count": 35,
     "metadata": {},
     "output_type": "execute_result"
    }
   ],
   "execution_count": 35
  },
  {
   "metadata": {
    "ExecuteTime": {
     "end_time": "2025-07-16T05:29:13.889665Z",
     "start_time": "2025-07-16T05:29:13.884675Z"
    }
   },
   "cell_type": "code",
   "source": "all_incorrect",
   "id": "71c74b8521242ee5",
   "outputs": [
    {
     "data": {
      "text/plain": [
       "{np.int64(1), np.int64(3), np.int64(4), np.int64(5), np.int64(7)}"
      ]
     },
     "execution_count": 36,
     "metadata": {},
     "output_type": "execute_result"
    }
   ],
   "execution_count": 36
  },
  {
   "metadata": {
    "ExecuteTime": {
     "end_time": "2025-07-16T05:29:21.269645Z",
     "start_time": "2025-07-16T05:29:21.264800Z"
    }
   },
   "cell_type": "code",
   "source": [
    "test = np.zeros(shape=(10,))\n",
    "test"
   ],
   "id": "2632f432bc287237",
   "outputs": [
    {
     "data": {
      "text/plain": [
       "array([0., 0., 0., 0., 0., 0., 0., 0., 0., 0.])"
      ]
     },
     "execution_count": 37,
     "metadata": {},
     "output_type": "execute_result"
    }
   ],
   "execution_count": 37
  },
  {
   "metadata": {
    "ExecuteTime": {
     "end_time": "2025-07-16T05:29:42.991053Z",
     "start_time": "2025-07-16T05:29:42.985939Z"
    }
   },
   "cell_type": "code",
   "source": [
    "test[ np.array(list(all_incorrect))] = 1\n",
    "test"
   ],
   "id": "8a877d87ab801fa",
   "outputs": [
    {
     "data": {
      "text/plain": [
       "array([0., 1., 0., 1., 1., 1., 0., 1., 0., 0.])"
      ]
     },
     "execution_count": 40,
     "metadata": {},
     "output_type": "execute_result"
    }
   ],
   "execution_count": 40
  },
  {
   "metadata": {},
   "cell_type": "code",
   "outputs": [],
   "execution_count": null,
   "source": "",
   "id": "e742f24ef7247314"
  }
 ],
 "metadata": {
  "kernelspec": {
   "display_name": "Python 3",
   "language": "python",
   "name": "python3"
  },
  "language_info": {
   "codemirror_mode": {
    "name": "ipython",
    "version": 2
   },
   "file_extension": ".py",
   "mimetype": "text/x-python",
   "name": "python",
   "nbconvert_exporter": "python",
   "pygments_lexer": "ipython2",
   "version": "2.7.6"
  }
 },
 "nbformat": 4,
 "nbformat_minor": 5
}
